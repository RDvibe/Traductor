{
  "nbformat": 4,
  "nbformat_minor": 0,
  "metadata": {
    "colab": {
      "provenance": []
    },
    "kernelspec": {
      "name": "python3",
      "display_name": "Python 3"
    },
    "language_info": {
      "name": "python"
    }
  },
  "cells": [
    {
      "cell_type": "code",
      "execution_count": 1,
      "metadata": {
        "colab": {
          "base_uri": "https://localhost:8080/"
        },
        "id": "RpfHnP0Pw1uE",
        "outputId": "b0c9dbee-28eb-4e6c-fb36-325bb43379ab"
      },
      "outputs": [
        {
          "output_type": "stream",
          "name": "stdout",
          "text": [
            "Collecting googletrans==4.0.0-rc1\n",
            "  Downloading googletrans-4.0.0rc1.tar.gz (20 kB)\n",
            "  Preparing metadata (setup.py) ... \u001b[?25l\u001b[?25hdone\n",
            "Collecting httpx==0.13.3 (from googletrans==4.0.0-rc1)\n",
            "  Downloading httpx-0.13.3-py3-none-any.whl (55 kB)\n",
            "\u001b[2K     \u001b[90m━━━━━━━━━━━━━━━━━━━━━━━━━━━━━━━━━━━━━━━━\u001b[0m \u001b[32m55.1/55.1 kB\u001b[0m \u001b[31m2.5 MB/s\u001b[0m eta \u001b[36m0:00:00\u001b[0m\n",
            "\u001b[?25hRequirement already satisfied: certifi in /usr/local/lib/python3.10/dist-packages (from httpx==0.13.3->googletrans==4.0.0-rc1) (2023.7.22)\n",
            "Collecting hstspreload (from httpx==0.13.3->googletrans==4.0.0-rc1)\n",
            "  Downloading hstspreload-2023.1.1-py3-none-any.whl (1.5 MB)\n",
            "\u001b[2K     \u001b[90m━━━━━━━━━━━━━━━━━━━━━━━━━━━━━━━━━━━━━━━━\u001b[0m \u001b[32m1.5/1.5 MB\u001b[0m \u001b[31m15.0 MB/s\u001b[0m eta \u001b[36m0:00:00\u001b[0m\n",
            "\u001b[?25hRequirement already satisfied: sniffio in /usr/local/lib/python3.10/dist-packages (from httpx==0.13.3->googletrans==4.0.0-rc1) (1.3.0)\n",
            "Collecting chardet==3.* (from httpx==0.13.3->googletrans==4.0.0-rc1)\n",
            "  Downloading chardet-3.0.4-py2.py3-none-any.whl (133 kB)\n",
            "\u001b[2K     \u001b[90m━━━━━━━━━━━━━━━━━━━━━━━━━━━━━━━━━━━━━━\u001b[0m \u001b[32m133.4/133.4 kB\u001b[0m \u001b[31m14.4 MB/s\u001b[0m eta \u001b[36m0:00:00\u001b[0m\n",
            "\u001b[?25hCollecting idna==2.* (from httpx==0.13.3->googletrans==4.0.0-rc1)\n",
            "  Downloading idna-2.10-py2.py3-none-any.whl (58 kB)\n",
            "\u001b[2K     \u001b[90m━━━━━━━━━━━━━━━━━━━━━━━━━━━━━━━━━━━━━━━━\u001b[0m \u001b[32m58.8/58.8 kB\u001b[0m \u001b[31m3.9 MB/s\u001b[0m eta \u001b[36m0:00:00\u001b[0m\n",
            "\u001b[?25hCollecting rfc3986<2,>=1.3 (from httpx==0.13.3->googletrans==4.0.0-rc1)\n",
            "  Downloading rfc3986-1.5.0-py2.py3-none-any.whl (31 kB)\n",
            "Collecting httpcore==0.9.* (from httpx==0.13.3->googletrans==4.0.0-rc1)\n",
            "  Downloading httpcore-0.9.1-py3-none-any.whl (42 kB)\n",
            "\u001b[2K     \u001b[90m━━━━━━━━━━━━━━━━━━━━━━━━━━━━━━━━━━━━━━━━\u001b[0m \u001b[32m42.6/42.6 kB\u001b[0m \u001b[31m2.4 MB/s\u001b[0m eta \u001b[36m0:00:00\u001b[0m\n",
            "\u001b[?25hCollecting h11<0.10,>=0.8 (from httpcore==0.9.*->httpx==0.13.3->googletrans==4.0.0-rc1)\n",
            "  Downloading h11-0.9.0-py2.py3-none-any.whl (53 kB)\n",
            "\u001b[2K     \u001b[90m━━━━━━━━━━━━━━━━━━━━━━━━━━━━━━━━━━━━━━━━\u001b[0m \u001b[32m53.6/53.6 kB\u001b[0m \u001b[31m6.0 MB/s\u001b[0m eta \u001b[36m0:00:00\u001b[0m\n",
            "\u001b[?25hCollecting h2==3.* (from httpcore==0.9.*->httpx==0.13.3->googletrans==4.0.0-rc1)\n",
            "  Downloading h2-3.2.0-py2.py3-none-any.whl (65 kB)\n",
            "\u001b[2K     \u001b[90m━━━━━━━━━━━━━━━━━━━━━━━━━━━━━━━━━━━━━━━━\u001b[0m \u001b[32m65.0/65.0 kB\u001b[0m \u001b[31m7.4 MB/s\u001b[0m eta \u001b[36m0:00:00\u001b[0m\n",
            "\u001b[?25hCollecting hyperframe<6,>=5.2.0 (from h2==3.*->httpcore==0.9.*->httpx==0.13.3->googletrans==4.0.0-rc1)\n",
            "  Downloading hyperframe-5.2.0-py2.py3-none-any.whl (12 kB)\n",
            "Collecting hpack<4,>=3.0 (from h2==3.*->httpcore==0.9.*->httpx==0.13.3->googletrans==4.0.0-rc1)\n",
            "  Downloading hpack-3.0.0-py2.py3-none-any.whl (38 kB)\n",
            "Building wheels for collected packages: googletrans\n",
            "  Building wheel for googletrans (setup.py) ... \u001b[?25l\u001b[?25hdone\n",
            "  Created wheel for googletrans: filename=googletrans-4.0.0rc1-py3-none-any.whl size=17396 sha256=a156dbc6663abe01e7922ccda969c55e02b2a3186fa63520bbc24ad78d2a145e\n",
            "  Stored in directory: /root/.cache/pip/wheels/c0/59/9f/7372f0cf70160fe61b528532e1a7c8498c4becd6bcffb022de\n",
            "Successfully built googletrans\n",
            "Installing collected packages: rfc3986, hyperframe, hpack, h11, chardet, idna, hstspreload, h2, httpcore, httpx, googletrans\n",
            "  Attempting uninstall: chardet\n",
            "    Found existing installation: chardet 5.2.0\n",
            "    Uninstalling chardet-5.2.0:\n",
            "      Successfully uninstalled chardet-5.2.0\n",
            "  Attempting uninstall: idna\n",
            "    Found existing installation: idna 3.4\n",
            "    Uninstalling idna-3.4:\n",
            "      Successfully uninstalled idna-3.4\n",
            "Successfully installed chardet-3.0.4 googletrans-4.0.0rc1 h11-0.9.0 h2-3.2.0 hpack-3.0.0 hstspreload-2023.1.1 httpcore-0.9.1 httpx-0.13.3 hyperframe-5.2.0 idna-2.10 rfc3986-1.5.0\n"
          ]
        }
      ],
      "source": [
        "!pip install googletrans==4.0.0-rc1\n"
      ]
    },
    {
      "cell_type": "code",
      "source": [
        "!pip install PyPDF2"
      ],
      "metadata": {
        "colab": {
          "base_uri": "https://localhost:8080/"
        },
        "id": "l3D0TTqvMTdz",
        "outputId": "c0543a96-5568-408b-c86c-9c2ae3d1d506"
      },
      "execution_count": 2,
      "outputs": [
        {
          "output_type": "stream",
          "name": "stdout",
          "text": [
            "Collecting PyPDF2\n",
            "  Downloading pypdf2-3.0.1-py3-none-any.whl (232 kB)\n",
            "\u001b[?25l     \u001b[90m━━━━━━━━━━━━━━━━━━━━━━━━━━━━━━━━━━━━━━━━\u001b[0m \u001b[32m0.0/232.6 kB\u001b[0m \u001b[31m?\u001b[0m eta \u001b[36m-:--:--\u001b[0m\r\u001b[2K     \u001b[91m━━━━━━━━━━━━━━━━━━━━━━━━\u001b[0m\u001b[90m╺\u001b[0m\u001b[90m━━━━━━━━━━━━━━\u001b[0m \u001b[32m143.4/232.6 kB\u001b[0m \u001b[31m4.2 MB/s\u001b[0m eta \u001b[36m0:00:01\u001b[0m\r\u001b[2K     \u001b[90m━━━━━━━━━━━━━━━━━━━━━━━━━━━━━━━━━━━━━━━\u001b[0m \u001b[32m232.6/232.6 kB\u001b[0m \u001b[31m4.1 MB/s\u001b[0m eta \u001b[36m0:00:00\u001b[0m\n",
            "\u001b[?25hInstalling collected packages: PyPDF2\n",
            "Successfully installed PyPDF2-3.0.1\n"
          ]
        }
      ]
    },
    {
      "cell_type": "code",
      "source": [
        "from googletrans import Translator\n",
        "\n",
        "translator = Translator()\n"
      ],
      "metadata": {
        "id": "NEE1womX02Xn"
      },
      "execution_count": 3,
      "outputs": []
    },
    {
      "cell_type": "markdown",
      "source": [
        "en: inglés\n",
        "es: español\n",
        "fr: francés\n",
        "de: alemán\n",
        "it: italiano\n",
        "pt: portugués\n",
        "ja: japonés\n",
        "ko: coreano\n",
        "zh-cn: chino simplificado\n",
        "zh-tw: chino tradicional"
      ],
      "metadata": {
        "id": "Y5HsSM9vEVo1"
      }
    },
    {
      "cell_type": "code",
      "source": [
        "text =\"\"\"This report was prepared for the government of Peru in response to its\n",
        "request for assistance from the United Nations Development ProgramlWorld\n",
        "Bank Trade Expansion Program. The report was directed by Dominique\n",
        "Hachette (Consultant) with the participation of Roberto Abusada (Consultant),\n",
        "Federico Changanaqui (World Bank), Michael Connolly (Consultant), Patricio\n",
        "Cortk (Consultant), Geoffrey Shepherd (World Bank), Adolfo Stunenegger\n",
        "(Consultant), and Wendy Takacs (Consultant). The main mission visited Peru\n",
        "from February 25 to March 9, 1991. The office of the UNDP under the\n",
        "direction of M. Pierre den Baas provided excellent support to the mission.\n",
        "Discussions with different representatives of the government and of the private\n",
        "sector were extremely useful and stimulating particularly those with Ministers\n",
        "Carlos Bolo& and Victor Joy, and Javier Galvan and Char Pehanda from the\n",
        "Mitry of Economy and Finance.\n",
        "The views and recommendations of the report are those of the authors\n",
        "and do not necessarily reflect those of the United Nations Development Program\n",
        "of the World Bank.\n",
        "\"\"\" # Coloca aquí el texto en inglés que deseas traducir\n",
        "target_language = 'es' # Cambiamos el idioma objetivo a 'es' para español\n",
        "result = translator.translate(text, dest=target_language)\n",
        "\n",
        "print(result.text)\n"
      ],
      "metadata": {
        "colab": {
          "base_uri": "https://localhost:8080/"
        },
        "id": "qDNSSM-WLsaM",
        "outputId": "6cf07f28-252a-44a5-efa9-de5dbe9ab19a"
      },
      "execution_count": null,
      "outputs": [
        {
          "output_type": "stream",
          "name": "stdout",
          "text": [
            "Este informe fue preparado para el Gobierno de Perú en respuesta a su\n",
            "Solicitud de asistencia del Programa de Desarrollo de las Naciones Unidas\n",
            "Programa de expansión de comercio bancario.El informe fue dirigido por Dominique\n",
            "Hachette (consultor) con la participación de Roberto Abusada (Consultor),\n",
            "Federico Changanaqui (Banco Mundial), Michael Connolly (Consultor), Patricio\n",
            "Cortk (Consultor), Geoffrey Shepherd (Banco Mundial), Adolfo Sturnenegger\n",
            "(Consultor) y Wendy Takacs (consultor).La misión principal visitó Perú\n",
            "del 25 de febrero al 9 de marzo de 1991. La oficina del PNUD bajo el\n",
            "La dirección de M. Pierre den Baas proporcionó un excelente apoyo a la misión.\n",
            "Discusiones con diferentes representantes del gobierno y del privado\n",
            "El sector fue extremadamente útil y estimulante, particularmente aquellos con ministros\n",
            "Carlos Bolo y Victor Joy, y Javier Galvan y Char Pehanda de la\n",
            "Mitry de economía y finanzas.\n",
            "Las opiniones y recomendaciones del informe son las de los autores.\n",
            "y no reflejan necesariamente los del Programa de Desarrollo de las Naciones Unidas\n",
            "del Banco Mundial.\n"
          ]
        }
      ]
    },
    {
      "cell_type": "code",
      "source": [
        "text = ''\n",
        "target_language = 'en'\n",
        "result = translator.translate(text, dest=target_language)\n",
        "\n",
        "print(result.text)\n"
      ],
      "metadata": {
        "colab": {
          "base_uri": "https://localhost:8080/"
        },
        "id": "n_jVa7_l05my",
        "outputId": "5c78e521-6255-4716-88c4-1d91b3878a17"
      },
      "execution_count": null,
      "outputs": [
        {
          "output_type": "stream",
          "name": "stdout",
          "text": [
            "These days I am programming several things thanks to artificial intelligence, from experimental poetry generators, translator, text generator and even a chat-bot on Telegram\n"
          ]
        }
      ]
    },
    {
      "cell_type": "code",
      "source": [
        "import PyPDF2\n",
        "from googletrans import Translator\n",
        "\n",
        "# Leer el PDF\n",
        "pdf_file_path = '/content/2308.07921.pdf'\n",
        "pdf_file = open(pdf_file_path, 'rb')\n",
        "pdf_reader = PyPDF2.PdfReader(pdf_file) # Utilizar PdfReader en lugar de PdfFileReader\n",
        "\n",
        "# Crear un objeto traductor\n",
        "translator = Translator()\n",
        "\n",
        "# Traducir cada página y guardar el texto traducido\n",
        "for page_num in range(len(pdf_reader.pages)):\n",
        "    page_text = pdf_reader.pages[page_num].extract_text()\n",
        "\n",
        "    # Dividir el texto en segmentos de 5000 caracteres\n",
        "    segments = [page_text[i:i + 5000] for i in range(0, len(page_text), 5000)]\n",
        "\n",
        "    # Traducir cada segmento por separado\n",
        "    for segment_num, segment in enumerate(segments):\n",
        "        translated_segment = translator.translate(segment, src='en', dest='es')\n",
        "\n",
        "        # Guardar el segmento traducido en un archivo\n",
        "        with open(f'translated_segment_page_{page_num}_part_{segment_num}.txt', 'w', encoding='utf-8') as file:\n",
        "            file.write(translated_segment.text)\n",
        "\n",
        "        # Imprimir el segmento traducido (opcional)\n",
        "        print(f\"Traducción de la página {page_num}, parte {segment_num} completada.\")\n",
        "\n",
        "# Cerrar el archivo PDF\n",
        "pdf_file.close()\n",
        "\n",
        "print(\"Traducción completada.\")\n"
      ],
      "metadata": {
        "colab": {
          "base_uri": "https://localhost:8080/"
        },
        "id": "YYCRivv9MWJT",
        "outputId": "93345439-986e-4518-c927-7ec985d6c9ae"
      },
      "execution_count": 4,
      "outputs": [
        {
          "output_type": "stream",
          "name": "stdout",
          "text": [
            "Traducción de la página 0, parte 0 completada.\n",
            "Traducción de la página 1, parte 0 completada.\n",
            "Traducción de la página 2, parte 0 completada.\n",
            "Traducción de la página 3, parte 0 completada.\n",
            "Traducción de la página 4, parte 0 completada.\n",
            "Traducción de la página 5, parte 0 completada.\n",
            "Traducción de la página 6, parte 0 completada.\n",
            "Traducción de la página 7, parte 0 completada.\n",
            "Traducción de la página 8, parte 0 completada.\n",
            "Traducción de la página 9, parte 0 completada.\n",
            "Traducción de la página 10, parte 0 completada.\n",
            "Traducción de la página 11, parte 0 completada.\n",
            "Traducción de la página 12, parte 0 completada.\n",
            "Traducción de la página 13, parte 0 completada.\n",
            "Traducción de la página 14, parte 0 completada.\n",
            "Traducción de la página 15, parte 0 completada.\n",
            "Traducción de la página 16, parte 0 completada.\n",
            "Traducción de la página 17, parte 0 completada.\n",
            "Traducción de la página 18, parte 0 completada.\n",
            "Traducción de la página 19, parte 0 completada.\n",
            "Traducción de la página 20, parte 0 completada.\n",
            "Traducción de la página 21, parte 0 completada.\n",
            "Traducción de la página 22, parte 0 completada.\n",
            "Traducción completada.\n"
          ]
        }
      ]
    },
    {
      "cell_type": "markdown",
      "source": [
        "#Convertimo todo a ZIP"
      ],
      "metadata": {
        "id": "-5lLw4NMuASK"
      }
    },
    {
      "cell_type": "code",
      "source": [
        "import zipfile\n",
        "import os\n",
        "\n",
        "# Crear un archivo ZIP\n",
        "zip_file_path = 'translated_files.zip'\n",
        "with zipfile.ZipFile(zip_file_path, 'w') as zipf:\n",
        "    # Añadir cada archivo traducido al archivo ZIP\n",
        "    for page_num in range(len(pdf_reader.pages)):\n",
        "        for segment_num in range(0, len(page_text), 5000): # Ajustar según cómo estés dividiendo los segmentos\n",
        "            file_name = f'translated_segment_page_{page_num}_part_{segment_num}.txt'\n",
        "            if os.path.exists(file_name): # Verificar si el archivo existe antes de añadirlo\n",
        "                zipf.write(file_name)\n",
        "                os.remove(file_name) # Opcional: eliminar el archivo original después de añadirlo al ZIP\n",
        "\n",
        "print(f\"Todos los archivos traducidos han sido comprimidos en {zip_file_path}.\")\n",
        "\n"
      ],
      "metadata": {
        "colab": {
          "base_uri": "https://localhost:8080/"
        },
        "id": "Kn7SBMqzN9hq",
        "outputId": "6820fe42-e042-4a18-da0b-da210cca3e26"
      },
      "execution_count": 5,
      "outputs": [
        {
          "output_type": "stream",
          "name": "stdout",
          "text": [
            "Todos los archivos traducidos han sido comprimidos en translated_files.zip.\n"
          ]
        }
      ]
    },
    {
      "cell_type": "markdown",
      "source": [
        "#Descargamos el ZIP"
      ],
      "metadata": {
        "id": "cE6tk74YuHHt"
      }
    },
    {
      "cell_type": "code",
      "source": [
        "from google.colab import files\n",
        "\n",
        "files.download(zip_file_path)\n"
      ],
      "metadata": {
        "colab": {
          "base_uri": "https://localhost:8080/",
          "height": 17
        },
        "id": "bsrUQfUtOMFB",
        "outputId": "8af248bb-8d84-4ea6-f5ef-21182c607bda"
      },
      "execution_count": 6,
      "outputs": [
        {
          "output_type": "display_data",
          "data": {
            "text/plain": [
              "<IPython.core.display.Javascript object>"
            ],
            "application/javascript": [
              "\n",
              "    async function download(id, filename, size) {\n",
              "      if (!google.colab.kernel.accessAllowed) {\n",
              "        return;\n",
              "      }\n",
              "      const div = document.createElement('div');\n",
              "      const label = document.createElement('label');\n",
              "      label.textContent = `Downloading \"${filename}\": `;\n",
              "      div.appendChild(label);\n",
              "      const progress = document.createElement('progress');\n",
              "      progress.max = size;\n",
              "      div.appendChild(progress);\n",
              "      document.body.appendChild(div);\n",
              "\n",
              "      const buffers = [];\n",
              "      let downloaded = 0;\n",
              "\n",
              "      const channel = await google.colab.kernel.comms.open(id);\n",
              "      // Send a message to notify the kernel that we're ready.\n",
              "      channel.send({})\n",
              "\n",
              "      for await (const message of channel.messages) {\n",
              "        // Send a message to notify the kernel that we're ready.\n",
              "        channel.send({})\n",
              "        if (message.buffers) {\n",
              "          for (const buffer of message.buffers) {\n",
              "            buffers.push(buffer);\n",
              "            downloaded += buffer.byteLength;\n",
              "            progress.value = downloaded;\n",
              "          }\n",
              "        }\n",
              "      }\n",
              "      const blob = new Blob(buffers, {type: 'application/binary'});\n",
              "      const a = document.createElement('a');\n",
              "      a.href = window.URL.createObjectURL(blob);\n",
              "      a.download = filename;\n",
              "      div.appendChild(a);\n",
              "      a.click();\n",
              "      div.remove();\n",
              "    }\n",
              "  "
            ]
          },
          "metadata": {}
        },
        {
          "output_type": "display_data",
          "data": {
            "text/plain": [
              "<IPython.core.display.Javascript object>"
            ],
            "application/javascript": [
              "download(\"download_38b08418-847a-4e6d-bfc5-2079802419b8\", \"translated_files.zip\", 77280)"
            ]
          },
          "metadata": {}
        }
      ]
    }
  ]
}